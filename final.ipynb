{
  "cells": [
    {
      "cell_type": "markdown",
      "metadata": {
        "id": "view-in-github",
        "colab_type": "text"
      },
      "source": [
        "<a href=\"https://colab.research.google.com/github/harshitsingh85420/ML/blob/main/final.ipynb\" target=\"_parent\"><img src=\"https://colab.research.google.com/assets/colab-badge.svg\" alt=\"Open In Colab\"/></a>"
      ]
    },
    {
      "cell_type": "code",
      "execution_count": 3,
      "metadata": {
        "id": "6lRxouaqqg3Y"
      },
      "outputs": [],
      "source": [
        "from tensorflow.keras.models import Model\n"
      ]
    },
    {
      "cell_type": "code",
      "execution_count": 4,
      "metadata": {
        "id": "J12YLo02qg3d"
      },
      "outputs": [],
      "source": [
        "from tensorflow.keras.layers import Input,LSTM, Dense"
      ]
    },
    {
      "cell_type": "code",
      "execution_count": 5,
      "metadata": {
        "id": "wsuFrhFUqg3d"
      },
      "outputs": [],
      "source": [
        "import numpy as np"
      ]
    },
    {
      "cell_type": "code",
      "execution_count": 6,
      "metadata": {
        "id": "S3Gy9UHLqg3e"
      },
      "outputs": [],
      "source": [
        "batchsize=64"
      ]
    },
    {
      "cell_type": "code",
      "execution_count": 7,
      "metadata": {
        "id": "eqAWKdgNqg3e"
      },
      "outputs": [],
      "source": [
        "epochs=100"
      ]
    },
    {
      "cell_type": "code",
      "execution_count": 8,
      "metadata": {
        "id": "ai3Iz2ghqg3f"
      },
      "outputs": [],
      "source": [
        "latentdim=256"
      ]
    },
    {
      "cell_type": "code",
      "execution_count": 9,
      "metadata": {
        "id": "2IWEGpzYqg3g"
      },
      "outputs": [],
      "source": [
        "numsamples=10000"
      ]
    },
    {
      "cell_type": "code",
      "execution_count": null,
      "metadata": {
        "id": "5Ox39k1Gqg3h"
      },
      "outputs": [],
      "source": [
        "datapath='/spa.txt'"
      ]
    },
    {
      "cell_type": "code",
      "execution_count": null,
      "metadata": {
        "id": "QAS_-j3oqg3i"
      },
      "outputs": [],
      "source": [
        "inputtexts=[]"
      ]
    },
    {
      "cell_type": "code",
      "execution_count": null,
      "metadata": {
        "id": "hmj3a0iRqg3i"
      },
      "outputs": [],
      "source": [
        "targettexts=[]"
      ]
    },
    {
      "cell_type": "code",
      "execution_count": null,
      "metadata": {
        "id": "pSHeAkG9qg3j"
      },
      "outputs": [],
      "source": [
        "inputcharacters=set()"
      ]
    },
    {
      "cell_type": "code",
      "execution_count": null,
      "metadata": {
        "id": "wXXDs_B0qg3j"
      },
      "outputs": [],
      "source": [
        "targetcharacters=set()"
      ]
    },
    {
      "cell_type": "code",
      "execution_count": null,
      "metadata": {
        "id": "RyuM8kJ3qg3k"
      },
      "outputs": [],
      "source": [
        "with open(datapath,'r',encoding='utf-8') as f:\n",
        "    lines=f.read().split('\\n')\n",
        "    "
      ]
    },
    {
      "cell_type": "code",
      "execution_count": null,
      "metadata": {
        "id": "-Uf8N9aIqg3k"
      },
      "outputs": [],
      "source": [
        "for line in lines[:min(numsamples,len(lines)-1)]:\n",
        "    inputtext,targettext=line.split('\\t')\n",
        "    targettext='\\t'+targettext+'\\n'\n",
        "    inputtexts.append(inputtext)\n",
        "    targettexts.append(targettext)\n",
        "    for char in inputtext:\n",
        "        if char not in inputcharacters:\n",
        "            inputcharacters.add(char)\n",
        "    for char in targettext:\n",
        "        if char not in targetcharacters:\n",
        "            targetcharacters.add(char)        "
      ]
    },
    {
      "cell_type": "code",
      "execution_count": null,
      "metadata": {
        "colab": {
          "base_uri": "https://localhost:8080/"
        },
        "id": "e_w0axPhqg3l",
        "outputId": "d6a76aaa-f7e9-46a5-ab6c-c78680f6f220"
      },
      "outputs": [
        {
          "data": {
            "text/plain": [
              "86"
            ]
          },
          "execution_count": 49,
          "metadata": {},
          "output_type": "execute_result"
        }
      ],
      "source": [
        "len(targetcharacters)"
      ]
    },
    {
      "cell_type": "code",
      "execution_count": null,
      "metadata": {
        "id": "56y0-F95qg3l"
      },
      "outputs": [],
      "source": [
        "inputcharacters=sorted(list(inputcharacters))"
      ]
    },
    {
      "cell_type": "code",
      "execution_count": null,
      "metadata": {
        "id": "0gmawWPZqg3m"
      },
      "outputs": [],
      "source": [
        "targetcharacters=sorted(list(targetcharacters))"
      ]
    },
    {
      "cell_type": "code",
      "execution_count": null,
      "metadata": {
        "colab": {
          "base_uri": "https://localhost:8080/"
        },
        "id": "P_iwsiQAqg3m",
        "outputId": "f85dfba1-2323-4e98-87b9-5461d3e476d5"
      },
      "outputs": [
        {
          "data": {
            "text/plain": [
              "10000"
            ]
          },
          "execution_count": 52,
          "metadata": {},
          "output_type": "execute_result"
        }
      ],
      "source": [
        "len(inputtexts)"
      ]
    },
    {
      "cell_type": "code",
      "execution_count": null,
      "metadata": {
        "id": "q_IoSgMIqg3m"
      },
      "outputs": [],
      "source": [
        "numencodertokens=len(inputcharacters)\n",
        "numdecodertokens=len(targetcharacters)"
      ]
    },
    {
      "cell_type": "code",
      "execution_count": null,
      "metadata": {
        "id": "SKe03MyVqg3n"
      },
      "outputs": [],
      "source": [
        "maxencoderseqlength=max([len(txt) for txt in inputtexts])"
      ]
    },
    {
      "cell_type": "code",
      "execution_count": null,
      "metadata": {
        "id": "Cd8LCVwuqg3n"
      },
      "outputs": [],
      "source": [
        "maxdecoderseqlength=max([len(txt) for txt in targettexts])"
      ]
    },
    {
      "cell_type": "code",
      "execution_count": null,
      "metadata": {
        "colab": {
          "base_uri": "https://localhost:8080/"
        },
        "id": "DT38POfQqg3n",
        "outputId": "b6a3204e-9f49-4c17-db15-7eea6424887e"
      },
      "outputs": [
        {
          "data": {
            "text/plain": [
              "17"
            ]
          },
          "execution_count": 56,
          "metadata": {},
          "output_type": "execute_result"
        }
      ],
      "source": [
        "maxencoderseqlength"
      ]
    },
    {
      "cell_type": "code",
      "execution_count": null,
      "metadata": {
        "colab": {
          "base_uri": "https://localhost:8080/"
        },
        "id": "YYpjpkaGqg3o",
        "outputId": "d5084bf7-81c1-4787-fbb9-350e7edfc477"
      },
      "outputs": [
        {
          "data": {
            "text/plain": [
              "42"
            ]
          },
          "execution_count": 57,
          "metadata": {},
          "output_type": "execute_result"
        }
      ],
      "source": [
        "maxdecoderseqlength"
      ]
    },
    {
      "cell_type": "code",
      "execution_count": null,
      "metadata": {
        "id": "x7PWP8Tnqg3o"
      },
      "outputs": [],
      "source": [
        "inputtokenindex=dict([(char,i) for i ,char in enumerate(inputcharacters)])"
      ]
    },
    {
      "cell_type": "code",
      "execution_count": null,
      "metadata": {
        "id": "JlcJM6Uhqg3o"
      },
      "outputs": [],
      "source": [
        "targettokenindex=dict([(char,i) for i ,char in enumerate(targetcharacters)])"
      ]
    },
    {
      "cell_type": "code",
      "execution_count": null,
      "metadata": {
        "colab": {
          "base_uri": "https://localhost:8080/"
        },
        "id": "NutmSIcMqg3p",
        "outputId": "b3e46425-43ec-4a44-a14e-a63d41466e2d"
      },
      "outputs": [
        {
          "data": {
            "text/plain": [
              "['Go.',\n",
              " 'Go.',\n",
              " 'Go.',\n",
              " 'Go.',\n",
              " 'Hi.',\n",
              " 'Run!',\n",
              " 'Run.',\n",
              " 'Who?',\n",
              " 'Fire!',\n",
              " 'Fire!',\n",
              " 'Fire!',\n",
              " 'Help!',\n",
              " 'Help!',\n",
              " 'Help!',\n",
              " 'Jump!',\n",
              " 'Jump.',\n",
              " 'Stop!',\n",
              " 'Stop!',\n",
              " 'Stop!',\n",
              " 'Wait!',\n",
              " 'Wait.',\n",
              " 'Go on.',\n",
              " 'Go on.',\n",
              " 'Hello!',\n",
              " 'I ran.',\n",
              " 'I ran.',\n",
              " 'I try.',\n",
              " 'I won!',\n",
              " 'Oh no!',\n",
              " 'Relax.',\n",
              " 'Smile.',\n",
              " 'Attack!',\n",
              " 'Attack!',\n",
              " 'Get up.',\n",
              " 'Go now.',\n",
              " 'Got it!',\n",
              " 'Got it?',\n",
              " 'Got it?',\n",
              " 'He ran.',\n",
              " 'Hop in.',\n",
              " 'Hug me.',\n",
              " 'I fell.',\n",
              " 'I know.',\n",
              " 'I left.',\n",
              " 'I lied.',\n",
              " 'I lost.',\n",
              " 'I quit.',\n",
              " 'I quit.',\n",
              " 'I work.',\n",
              " \"I'm 19.\",\n",
              " \"I'm up.\",\n",
              " 'Listen.',\n",
              " 'Listen.',\n",
              " 'Listen.',\n",
              " 'No way!',\n",
              " 'No way!',\n",
              " 'No way!',\n",
              " 'No way!',\n",
              " 'No way!',\n",
              " 'No way!',\n",
              " 'No way!',\n",
              " 'No way!',\n",
              " 'No way!',\n",
              " 'No way!',\n",
              " 'Really?',\n",
              " 'Really?',\n",
              " 'Thanks.',\n",
              " 'Thanks.',\n",
              " 'Try it.',\n",
              " 'We try.',\n",
              " 'We won.',\n",
              " 'Why me?',\n",
              " 'Ask Tom.',\n",
              " 'Awesome!',\n",
              " 'Be calm.',\n",
              " 'Be cool.',\n",
              " 'Be fair.',\n",
              " 'Be kind.',\n",
              " 'Be nice.',\n",
              " 'Beat it.',\n",
              " 'Call me.',\n",
              " 'Call me.',\n",
              " 'Call me.',\n",
              " 'Call us.',\n",
              " 'Come in.',\n",
              " 'Come in.',\n",
              " 'Come in.',\n",
              " 'Come on!',\n",
              " 'Come on.',\n",
              " 'Come on.',\n",
              " 'Drop it!',\n",
              " 'Get Tom.',\n",
              " 'Get out!',\n",
              " 'Get out.',\n",
              " 'Get out.',\n",
              " 'Get out.',\n",
              " 'Get out.',\n",
              " 'Get out.',\n",
              " 'Go away!',\n",
              " 'Go away!',\n",
              " 'Go away!',\n",
              " 'Go away!',\n",
              " 'Go away!',\n",
              " 'Go away!',\n",
              " 'Go away!',\n",
              " 'Go away.',\n",
              " 'Go away.',\n",
              " 'Go away.',\n",
              " 'Go away.',\n",
              " 'Go away.',\n",
              " 'Go away.',\n",
              " 'Go away.',\n",
              " 'Go home.',\n",
              " 'Go slow.',\n",
              " 'Goodbye!',\n",
              " 'Goodbye!',\n",
              " 'Goodbye!',\n",
              " 'Hang on!',\n",
              " 'Hang on!',\n",
              " 'Hang on!',\n",
              " 'Hang on.',\n",
              " 'He came.',\n",
              " 'He quit.',\n",
              " 'Help me!',\n",
              " 'Help me.',\n",
              " 'Help me.',\n",
              " 'Help me.',\n",
              " 'Help us.',\n",
              " 'Hit Tom.',\n",
              " 'Hold it!',\n",
              " 'Hold on.',\n",
              " 'Hold on.',\n",
              " 'Hold on.',\n",
              " 'Hug Tom.',\n",
              " 'I agree.',\n",
              " 'I agree.',\n",
              " 'I bowed.',\n",
              " 'I moved.',\n",
              " 'I moved.',\n",
              " 'I moved.',\n",
              " 'I moved.',\n",
              " 'I slept.',\n",
              " 'I tried.',\n",
              " \"I'll go.\",\n",
              " \"I'm Tom.\",\n",
              " \"I'm fat.\",\n",
              " \"I'm fat.\",\n",
              " \"I'm fit.\",\n",
              " \"I'm hit!\",\n",
              " \"I'm old.\",\n",
              " \"I'm shy.\",\n",
              " \"I'm wet.\",\n",
              " \"It's OK.\",\n",
              " \"It's me!\",\n",
              " \"It's me.\",\n",
              " 'Join us.',\n",
              " 'Join us.',\n",
              " 'Keep it.',\n",
              " 'Me, too.',\n",
              " 'Open up.',\n",
              " 'Perfect!',\n",
              " 'See you.',\n",
              " 'Show me.',\n",
              " 'Show me.',\n",
              " 'Show me.',\n",
              " 'Shut up!',\n",
              " 'Shut up!',\n",
              " 'Skip it.',\n",
              " 'So long.',\n",
              " 'So long.',\n",
              " 'Stop it.',\n",
              " 'Stop it.',\n",
              " 'Take it.',\n",
              " 'Tell me.',\n",
              " 'Tom ate.',\n",
              " 'Tom ran.',\n",
              " 'Tom won.',\n",
              " 'Wait up.',\n",
              " 'Wake up!',\n",
              " 'Wake up!',\n",
              " 'Wake up!',\n",
              " 'Wake up.',\n",
              " 'Wash up.',\n",
              " 'We care.',\n",
              " 'We know.',\n",
              " 'We lost.',\n",
              " 'Welcome.',\n",
              " 'Welcome.',\n",
              " 'Who ate?',\n",
              " 'Who ran?',\n",
              " 'Who ran?',\n",
              " 'Who won?',\n",
              " 'Who won?',\n",
              " 'Why not?',\n",
              " 'You run.',\n",
              " 'You won.',\n",
              " 'Am I fat?',\n",
              " 'Ask them.',\n",
              " 'Ask them.',\n",
              " 'Back off!',\n",
              " 'Back off.',\n",
              " 'Be a man.',\n",
              " 'Be brave.',\n",
              " 'Be brief.',\n",
              " 'Be brief.',\n",
              " 'Be brief.',\n",
              " 'Be quiet.',\n",
              " 'Be still.',\n",
              " 'Call Tom.',\n",
              " 'Call Tom.',\n",
              " 'Call Tom.',\n",
              " 'Cheer up!',\n",
              " 'Cheer up.',\n",
              " 'Cool off!',\n",
              " 'Cuff him.',\n",
              " \"Don't go.\",\n",
              " 'Drive on.',\n",
              " 'Find Tom.',\n",
              " 'Find Tom.',\n",
              " 'Find Tom.',\n",
              " 'Find Tom.',\n",
              " 'Find Tom.',\n",
              " 'Find Tom.',\n",
              " 'Fix this.',\n",
              " 'Get away!',\n",
              " 'Get away!',\n",
              " 'Get away!',\n",
              " 'Get away!',\n",
              " 'Get down!',\n",
              " 'Get down.',\n",
              " 'Get down.',\n",
              " 'Get lost!',\n",
              " 'Get lost!',\n",
              " 'Get lost!',\n",
              " 'Get lost!',\n",
              " 'Get lost!',\n",
              " 'Get lost.',\n",
              " 'Get real!',\n",
              " 'Get real!',\n",
              " 'Get real.',\n",
              " 'Go ahead!',\n",
              " 'Go ahead.',\n",
              " 'Go on in.',\n",
              " 'Go on in.',\n",
              " 'Go on in.',\n",
              " 'Go on in.',\n",
              " 'Go on in.',\n",
              " 'Good job!',\n",
              " 'Grab Tom.',\n",
              " 'Grab him.',\n",
              " 'Have fun.',\n",
              " 'Have fun.',\n",
              " 'Have fun.',\n",
              " 'He spoke.',\n",
              " 'He tries.',\n",
              " 'He tries.',\n",
              " 'Help Tom.',\n",
              " 'Help him.',\n",
              " 'Hi, guys.',\n",
              " 'Hi, guys.',\n",
              " 'Hi, guys.',\n",
              " 'Hi, guys.',\n",
              " 'Hi, guys.',\n",
              " 'Hi, guys.',\n",
              " 'How cute!',\n",
              " 'How deep?',\n",
              " 'How deep?',\n",
              " 'Humor me.',\n",
              " 'Humor me.',\n",
              " 'Hurry up.',\n",
              " 'Hurry up.',\n",
              " 'I agreed.',\n",
              " 'I agreed.',\n",
              " 'I agreed.',\n",
              " 'I am fat.',\n",
              " 'I am old.',\n",
              " 'I ate it.',\n",
              " 'I ate it.',\n",
              " 'I can go.',\n",
              " 'I did OK.',\n",
              " 'I did it.',\n",
              " 'I failed.',\n",
              " 'I forgot.',\n",
              " 'I get by.',\n",
              " 'I get it.',\n",
              " 'I got it.',\n",
              " 'I phoned.',\n",
              " 'I refuse.',\n",
              " 'I resign.',\n",
              " 'I resign.',\n",
              " 'I saw it.',\n",
              " 'I smiled.',\n",
              " 'I stayed.',\n",
              " 'I talked.',\n",
              " 'I talked.',\n",
              " 'I talked.',\n",
              " 'I talked.',\n",
              " 'I use it.',\n",
              " 'I waited.',\n",
              " \"I'll pay.\",\n",
              " \"I'm back.\",\n",
              " \"I'm back.\",\n",
              " \"I'm bald.\",\n",
              " \"I'm bald.\",\n",
              " \"I'm calm.\",\n",
              " \"I'm cool.\",\n",
              " \"I'm done.\",\n",
              " \"I'm easy.\",\n",
              " \"I'm fair.\",\n",
              " \"I'm fine.\",\n",
              " \"I'm free!\",\n",
              " \"I'm free.\",\n",
              " \"I'm full.\",\n",
              " \"I'm full.\",\n",
              " \"I'm full.\",\n",
              " \"I'm here.\",\n",
              " \"I'm home.\",\n",
              " \"I'm hurt.\",\n",
              " \"I'm late.\",\n",
              " \"I'm lazy.\",\n",
              " \"I'm lost.\",\n",
              " \"I'm mean.\",\n",
              " \"I'm next.\",\n",
              " \"I'm okay.\",\n",
              " \"I'm poor.\",\n",
              " \"I'm rich.\",\n",
              " \"I'm rich.\",\n",
              " \"I'm safe.\",\n",
              " \"I'm sick.\",\n",
              " \"I'm thin.\",\n",
              " \"I'm tidy.\",\n",
              " \"I'm warm.\",\n",
              " \"I'm weak.\",\n",
              " \"I'm wise.\",\n",
              " \"I've won.\",\n",
              " 'It helps.',\n",
              " 'It hurts.',\n",
              " 'It works.',\n",
              " \"It's Tom.\",\n",
              " \"It's fun.\",\n",
              " \"It's his.\",\n",
              " \"It's new.\",\n",
              " \"It's odd.\",\n",
              " \"It's old.\",\n",
              " \"It's red.\",\n",
              " \"It's sad.\",\n",
              " 'Keep out!',\n",
              " 'Keep out.',\n",
              " 'Kiss Tom.',\n",
              " 'Kiss Tom.',\n",
              " 'Kiss Tom.',\n",
              " 'Leave it.',\n",
              " 'Leave me.',\n",
              " 'Leave us.',\n",
              " \"Let's go!\",\n",
              " \"Let's go!\",\n",
              " 'Look out!',\n",
              " 'Marry me.',\n",
              " 'May I go?',\n",
              " 'Save Tom.',\n",
              " 'She came.',\n",
              " 'She died.',\n",
              " 'She runs.',\n",
              " 'Sit down!',\n",
              " 'Sit down.',\n",
              " 'Sit here.',\n",
              " 'Speak up!',\n",
              " 'Speak up!',\n",
              " 'Speak up!',\n",
              " 'Stand by.',\n",
              " 'Stand by.',\n",
              " 'Stand up!',\n",
              " 'Stand up!',\n",
              " 'Stay put.',\n",
              " 'Stop Tom.',\n",
              " 'Take Tom.',\n",
              " 'Tell Tom.',\n",
              " 'Terrific!',\n",
              " 'Terrific!',\n",
              " 'They won.',\n",
              " 'Tom came.',\n",
              " 'Tom died.',\n",
              " 'Tom fell.',\n",
              " 'Tom knew.',\n",
              " 'Tom knew.',\n",
              " 'Tom left.',\n",
              " 'Tom lied.',\n",
              " 'Tom lies.',\n",
              " 'Tom lost.',\n",
              " 'Tom paid.',\n",
              " 'Tom quit.',\n",
              " 'Tom swam.',\n",
              " 'Tom wept.',\n",
              " \"Tom's up.\",\n",
              " 'Too late.',\n",
              " 'Trust me.',\n",
              " 'Try hard.',\n",
              " 'Try some.',\n",
              " 'Try some.',\n",
              " 'Try some.',\n",
              " 'Try this.',\n",
              " 'Try this.',\n",
              " 'Try this.',\n",
              " 'Use this.',\n",
              " 'Warn Tom.',\n",
              " 'Warn Tom.',\n",
              " 'Warn Tom.',\n",
              " 'Warn Tom.',\n",
              " 'Watch me.',\n",
              " 'Watch me.',\n",
              " 'Watch me.',\n",
              " 'Watch us.',\n",
              " 'Watch us.',\n",
              " 'We agree.',\n",
              " 'We tried.',\n",
              " \"We'll go.\",\n",
              " \"We're OK.\",\n",
              " 'What for?',\n",
              " 'What fun!',\n",
              " 'Who am I?',\n",
              " 'Who came?',\n",
              " 'Who died?',\n",
              " 'Who fell?',\n",
              " 'Who fell?',\n",
              " 'Who quit?',\n",
              " 'Who quit?',\n",
              " 'Who swam?',\n",
              " \"Who's he?\",\n",
              " 'Write me.',\n",
              " 'After you.',\n",
              " 'After you.',\n",
              " 'After you.',\n",
              " 'After you.',\n",
              " 'After you.',\n",
              " 'Aim. Fire!',\n",
              " 'Answer me.',\n",
              " 'Answer me.',\n",
              " 'Answer me.',\n",
              " 'Birds fly.',\n",
              " 'Bless you.',\n",
              " 'Call home!',\n",
              " 'Calm down.',\n",
              " 'Calm down.',\n",
              " 'Calm down.',\n",
              " 'Calm down.',\n",
              " 'Can we go?',\n",
              " 'Can we go?',\n",
              " 'Can we go?',\n",
              " 'Catch Tom.',\n",
              " 'Catch him.',\n",
              " 'Catch him.',\n",
              " 'Catch him.',\n",
              " 'Catch him.',\n",
              " 'Come back.',\n",
              " 'Come here.',\n",
              " 'Come here.',\n",
              " 'Come here.',\n",
              " 'Come home.',\n",
              " 'Come over.',\n",
              " 'Come over.',\n",
              " 'Come over.',\n",
              " 'Come over.',\n",
              " 'Come soon.',\n",
              " 'Do it now.',\n",
              " 'Dogs bark.',\n",
              " \"Don't ask.\",\n",
              " \"Don't cry.\",\n",
              " \"Don't cry.\",\n",
              " \"Don't cry.\",\n",
              " \"Don't cry.\",\n",
              " \"Don't lie.\",\n",
              " \"Don't run.\",\n",
              " 'Fantastic!',\n",
              " 'Fantastic!',\n",
              " 'Fantastic!',\n",
              " 'Feel this.',\n",
              " 'Feel this.',\n",
              " 'Feel this.',\n",
              " 'Feel this.',\n",
              " 'Feel this.',\n",
              " 'Follow me.',\n",
              " 'Follow me.',\n",
              " 'Follow us.',\n",
              " 'Forget it.',\n",
              " 'Forget me.',\n",
              " 'Forget me.',\n",
              " 'Forget me.',\n",
              " 'Forget me.',\n",
              " 'Get ready.',\n",
              " 'Go for it.',\n",
              " 'Go for it.',\n",
              " 'Go get it.',\n",
              " 'Go get it.',\n",
              " 'Go get it.',\n",
              " 'Go inside.',\n",
              " 'Go to bed.',\n",
              " 'Grab that.',\n",
              " 'Grab this.',\n",
              " 'Have some.',\n",
              " 'Have some.',\n",
              " 'Have some.',\n",
              " 'He is old.',\n",
              " 'He is old.',\n",
              " 'He shaved.',\n",
              " 'He smiled.',\n",
              " \"He's a DJ.\",\n",
              " \"He's fast.\",\n",
              " \"He's good.\",\n",
              " \"He's rich.\",\n",
              " \"He's rich.\",\n",
              " 'Here I am.',\n",
              " 'Hold this.',\n",
              " 'How awful!',\n",
              " 'How weird!',\n",
              " \"How's Tom?\",\n",
              " 'Humor Tom.',\n",
              " 'I am busy.',\n",
              " 'I am full.',\n",
              " 'I am full.',\n",
              " 'I am good.',\n",
              " 'I am here.',\n",
              " 'I am sick.',\n",
              " 'I am weak.',\n",
              " 'I beg you.',\n",
              " 'I beg you.',\n",
              " 'I can fly.',\n",
              " 'I can run.',\n",
              " 'I can run.',\n",
              " 'I can ski.',\n",
              " 'I cringed.',\n",
              " 'I fainted.',\n",
              " 'I fainted.',\n",
              " 'I gave up.',\n",
              " 'I gave up.',\n",
              " 'I gave up.',\n",
              " 'I gave up.',\n",
              " 'I get you.',\n",
              " 'I get you.',\n",
              " 'I get you.',\n",
              " 'I got hit.',\n",
              " 'I got hit.',\n",
              " 'I hate it.',\n",
              " 'I hate it.',\n",
              " 'I hate it.',\n",
              " 'I hit Tom.',\n",
              " 'I hope so.',\n",
              " 'I knew it.',\n",
              " 'I laughed.',\n",
              " 'I like it.',\n",
              " 'I love it!',\n",
              " 'I love it.',\n",
              " 'I mean it!',\n",
              " 'I mean it.',\n",
              " 'I mean it.',\n",
              " 'I miss it.',\n",
              " 'I miss it.',\n",
              " 'I miss it.',\n",
              " 'I need it.',\n",
              " 'I saw Tom.',\n",
              " 'I saw him.',\n",
              " 'I saw him.',\n",
              " 'I saw one.',\n",
              " 'I saw one.',\n",
              " 'I saw one.',\n",
              " 'I saw you.',\n",
              " 'I saw you.',\n",
              " 'I see Tom.',\n",
              " 'I tripped.',\n",
              " \"I'll cook.\",\n",
              " \"I'll cook.\",\n",
              " \"I'll live.\",\n",
              " \"I'll sing.\",\n",
              " \"I'll stop.\",\n",
              " \"I'll stop.\",\n",
              " \"I'll wait.\",\n",
              " \"I'll wait.\",\n",
              " \"I'll walk.\",\n",
              " \"I'll walk.\",\n",
              " \"I'll work.\",\n",
              " \"I'm a man.\",\n",
              " \"I'm a pro.\",\n",
              " \"I'm alone.\",\n",
              " \"I'm alone.\",\n",
              " \"I'm alone.\",\n",
              " \"I'm alone.\",\n",
              " \"I'm angry.\",\n",
              " \"I'm angry.\",\n",
              " \"I'm awake.\",\n",
              " \"I'm blind.\",\n",
              " \"I'm broke.\",\n",
              " \"I'm broke.\",\n",
              " \"I'm broke.\",\n",
              " \"I'm broke.\",\n",
              " \"I'm crazy.\",\n",
              " \"I'm drunk.\",\n",
              " \"I'm drunk.\",\n",
              " \"I'm drunk.\",\n",
              " \"I'm dying.\",\n",
              " \"I'm first.\",\n",
              " \"I'm first.\",\n",
              " \"I'm first.\",\n",
              " \"I'm first.\",\n",
              " \"I'm happy.\",\n",
              " \"I'm happy.\",\n",
              " \"I'm loved.\",\n",
              " \"I'm loved.\",\n",
              " \"I'm obese.\",\n",
              " \"I'm ready.\",\n",
              " \"I'm sorry.\",\n",
              " \"I'm tired.\",\n",
              " \"I'm tired.\",\n",
              " \"I'm yours.\",\n",
              " \"I'm yours.\",\n",
              " \"I'm yours.\",\n",
              " \"I've lost.\",\n",
              " 'Ignore it.',\n",
              " 'Ignore it.',\n",
              " 'Is Tom OK?',\n",
              " 'Is Tom in?',\n",
              " 'Is it bad?',\n",
              " 'Is it bad?',\n",
              " 'Is it far?',\n",
              " 'Is it you?',\n",
              " 'It burned.',\n",
              " 'It failed.',\n",
              " 'It failed.',\n",
              " 'It failed.',\n",
              " 'It is new.',\n",
              " 'It rained.',\n",
              " 'It snowed.',\n",
              " 'It stinks.',\n",
              " 'It worked.',\n",
              " \"It's 3:10.\",\n",
              " \"It's 8:30.\",\n",
              " \"It's a TV.\",\n",
              " \"It's cold.\",\n",
              " \"It's cold.\",\n",
              " \"It's cool.\",\n",
              " \"It's cool.\",\n",
              " \"It's dark.\",\n",
              " \"It's done!\",\n",
              " \"It's fine.\",\n",
              " \"It's good.\",\n",
              " \"It's good.\",\n",
              " \"It's here.\",\n",
              " \"It's hers.\",\n",
              " \"It's late.\",\n",
              " \"It's mine.\",\n",
              " \"It's mine.\",\n",
              " \"It's nice.\",\n",
              " \"It's nice.\",\n",
              " \"It's okay.\",\n",
              " \"It's okay.\",\n",
              " \"It's ours.\",\n",
              " \"It's ours.\",\n",
              " \"It's over.\",\n",
              " \"It's over.\",\n",
              " \"It's time.\",\n",
              " \"It's time.\",\n",
              " \"It's time.\",\n",
              " \"It's time.\",\n",
              " \"It's true!\",\n",
              " \"It's true.\",\n",
              " \"It's work.\",\n",
              " 'Keep them.',\n",
              " 'Keep them.',\n",
              " 'Keep them.',\n",
              " 'Keep this.',\n",
              " 'Keep this.',\n",
              " 'Keep this.',\n",
              " 'Keep this.',\n",
              " 'Keep this.',\n",
              " 'Keep warm.',\n",
              " 'Keep warm.',\n",
              " 'Keep warm.',\n",
              " 'Keep warm.',\n",
              " 'Keep warm.',\n",
              " 'Keep warm.',\n",
              " 'Keep warm.',\n",
              " 'Keep warm.',\n",
              " 'Leave Tom.',\n",
              " 'Leave Tom.',\n",
              " 'Leave Tom.',\n",
              " 'Leave now.',\n",
              " 'Leave now.',\n",
              " 'Leave now.',\n",
              " 'Let me go!',\n",
              " 'Let me go!',\n",
              " 'Let me go!',\n",
              " 'Let me go.',\n",
              " 'Let me in.',\n",
              " 'Let me in.',\n",
              " 'Let us in.',\n",
              " \"Let's eat.\",\n",
              " \"Let's see.\",\n",
              " \"Let's try!\",\n",
              " 'Lie still.',\n",
              " 'Lie still.',\n",
              " 'Listen up.',\n",
              " 'Look away.',\n",
              " 'Look away.',\n",
              " 'Look away.',\n",
              " 'Look away.',\n",
              " 'Look back!',\n",
              " 'Look back.',\n",
              " 'Look back.',\n",
              " 'Look back.',\n",
              " 'Look here.',\n",
              " 'Look here.',\n",
              " 'Look here.',\n",
              " 'Loosen it.',\n",
              " 'Loosen it.',\n",
              " 'Loosen it.',\n",
              " 'Loosen it.',\n",
              " 'Move over.',\n",
              " 'Move over.',\n",
              " 'Move over.',\n",
              " 'Move over.',\n",
              " 'Nice shot!',\n",
              " 'Of course!',\n",
              " 'Open fire!',\n",
              " 'Open fire!',\n",
              " 'Pardon me?',\n",
              " 'Please go.',\n",
              " 'Please go.',\n",
              " 'Please go.',\n",
              " 'Please go.',\n",
              " 'Put it on.',\n",
              " 'Put it on.',\n",
              " 'Read this.',\n",
              " 'Read this.',\n",
              " 'Read this.',\n",
              " 'Read this.',\n",
              " 'Say hello.',\n",
              " 'Search me.',\n",
              " 'See above.',\n",
              " 'See above.',\n",
              " 'Seize him!',\n",
              " 'Seize him!',\n",
              " 'Seize him!',\n",
              " 'Seize him!',\n",
              " 'Seize him!',\n",
              " 'Seriously?',\n",
              " 'She tried.',\n",
              " 'She tried.',\n",
              " 'She walks.',\n",
              " 'She walks.',\n",
              " 'She walks.',\n",
              " \"She's hot.\",\n",
              " \"She's hot.\",\n",
              " \"She's hot.\",\n",
              " \"She's hot.\",\n",
              " \"She's hot.\",\n",
              " 'Sign here.',\n",
              " 'Sign this.',\n",
              " 'Sign this.',\n",
              " 'Sign this.',\n",
              " 'Sign this.',\n",
              " 'Sign this.',\n",
              " 'Sit still.',\n",
              " 'Sit still.',\n",
              " 'Sit there.',\n",
              " 'Sit tight.',\n",
              " 'Slow down.',\n",
              " 'Slow down.',\n",
              " 'Stay away.',\n",
              " 'Stay away.',\n",
              " 'Stay calm.',\n",
              " 'Stay calm.',\n",
              " 'Stay here.',\n",
              " 'Step back.',\n",
              " 'Stop here.',\n",
              " 'Stop here.',\n",
              " 'Stop here.',\n",
              " 'Stop here.',\n",
              " 'Stop here.',\n",
              " 'Stop here.',\n",
              " 'Stop here.',\n",
              " 'Stop that.',\n",
              " 'Stop them.',\n",
              " 'Stop them.',\n",
              " 'Take care!',\n",
              " 'Take care!',\n",
              " 'Take care.',\n",
              " 'Take care.',\n",
              " 'Take mine.',\n",
              " 'Take mine.',\n",
              " 'Take over.',\n",
              " 'Take over.',\n",
              " 'Take over.',\n",
              " 'Take this.',\n",
              " 'Take this.',\n",
              " 'Take this.',\n",
              " 'Take this.',\n",
              " 'Thank you.',\n",
              " 'Thank you.',\n",
              " 'Thank you.',\n",
              " \"That's it.\",\n",
              " \"That's me.\",\n",
              " \"That's me.\",\n",
              " 'Then what?',\n",
              " 'They fell.',\n",
              " 'They left.',\n",
              " 'They left.',\n",
              " 'They left.',\n",
              " 'They lost.',\n",
              " 'Tom bowed.',\n",
              " 'Tom cared.',\n",
              " 'Tom cared.',\n",
              " 'Tom cared.',\n",
              " 'Tom cares.',\n",
              " 'Tom cares.',\n",
              " 'Tom cried.',\n",
              " 'Tom dozed.',\n",
              " 'Tom drove.',\n",
              " 'Tom is OK.',\n",
              " 'Tom is in.',\n",
              " 'Tom is up.',\n",
              " 'Tom knits.',\n",
              " 'Tom knows.',\n",
              " 'Tom moved.',\n",
              " 'Tom moved.',\n",
              " 'Tom rocks.',\n",
              " 'Tom stood.',\n",
              " 'Tom swims.',\n",
              " 'Tom swore.',\n",
              " 'Tom tried.',\n",
              " 'Tom tries.',\n",
              " 'Tom voted.',\n",
              " 'Tom walks.',\n",
              " 'Tom waved.',\n",
              " 'Tom works.',\n",
              " \"Tom'll go.\",\n",
              " \"Tom's fat.\",\n",
              " \"Tom's mad.\",\n",
              " \"Tom's sad.\",\n",
              " \"Tom's shy.\",\n",
              " 'Trust Tom.',\n",
              " 'Try again.',\n",
              " 'Try again.',\n",
              " 'Try again.',\n",
              " 'Try it on.',\n",
              " 'Wait here.',\n",
              " 'Wait here.',\n",
              " 'Wait here.',\n",
              " 'Wait here.',\n",
              " 'Watch Tom.',\n",
              " 'Watch out!',\n",
              " 'We can go.',\n",
              " 'We can go.',\n",
              " 'We can go.',\n",
              " 'We failed.',\n",
              " 'We failed.',\n",
              " 'We forgot.',\n",
              " 'We saw it.',\n",
              " 'We saw it.',\n",
              " 'We talked.',\n",
              " 'We waited.',\n",
              " \"We'll see.\",\n",
              " \"We'll see.\",\n",
              " \"We'll try.\",\n",
              " \"We've won!\",\n",
              " \"What's up?\",\n",
              " 'Who cares?',\n",
              " 'Who is he?',\n",
              " 'Who is it?',\n",
              " 'Who knows?',\n",
              " 'Who stood?',\n",
              " \"Who'll go?\",\n",
              " \"Who's Tom?\",\n",
              " 'Write Tom.',\n",
              " 'You drive.',\n",
              " 'You start.',\n",
              " 'You tried.',\n",
              " \"You're OK.\",\n",
              " \"You're OK.\",\n",
              " 'Aim higher.',\n",
              " 'Aim higher.',\n",
              " 'All aboard!',\n",
              " 'Am I right?',\n",
              " 'Am I wrong?',\n",
              " 'Am I wrong?',\n",
              " 'Answer Tom.',\n",
              " 'Answer Tom.',\n",
              " 'Answer Tom.',\n",
              " 'Are you 18?',\n",
              " 'Are you 18?',\n",
              " 'Are you OK?',\n",
              " 'Are you in?',\n",
              " 'Are you in?',\n",
              " 'Are you up?',\n",
              " 'Ask anyone.',\n",
              " 'Ask anyone.',\n",
              " 'Ask anyone.',\n",
              " 'Ask anyone.',\n",
              " 'Ask around.',\n",
              " 'Ask around.',\n",
              " 'Be careful.',\n",
              " 'Be careful.',\n",
              " 'Be content.',\n",
              " 'Be on time.',\n",
              " 'Be on time.',\n",
              " 'Be patient.',\n",
              " 'Be serious.',\n",
              " 'Birds sing.',\n",
              " 'Birds sing.',\n",
              " 'Bring food.',\n",
              " 'Bring help.',\n",
              " 'Bring wine.',\n",
              " 'Can I come?',\n",
              " 'Can I come?',\n",
              " 'Can I come?',\n",
              " 'Can I help?',\n",
              " 'Can I stay?',\n",
              " 'Carry this.',\n",
              " 'Check that.',\n",
              " 'Check this.',\n",
              " 'Choose one.',\n",
              " 'Come again.',\n",
              " 'Come alone.',\n",
              " 'Come along.',\n",
              " 'Come along.',\n",
              " 'Come early.',\n",
              " 'Come early.',\n",
              " 'Come early.',\n",
              " 'Come early.',\n",
              " 'Come on in!',\n",
              " 'Come on in!',\n",
              " 'Come on in!',\n",
              " 'Come on in.',\n",
              " 'Come on in.',\n",
              " 'Come quick!',\n",
              " 'Come quick!',\n",
              " 'Come to me.',\n",
              " 'Come to me.',\n",
              " 'Come to us.',\n",
              " 'Come to us.',\n",
              " 'Cut it out!',\n",
              " 'Did Tom go?',\n",
              " 'Do come in!',\n",
              " 'Do come in!',\n",
              " 'Do come in!',\n",
              " 'Do come in.',\n",
              " 'Do come in.',\n",
              " 'Do come in.',\n",
              " 'Do come in.',\n",
              " 'Do men cry?',\n",
              " \"Don't come.\",\n",
              " \"Don't jump!\",\n",
              " \"Don't look.\",\n",
              " \"Don't move!\",\n",
              " \"Don't move.\",\n",
              " \"Don't move.\",\n",
              " \"Don't move.\",\n",
              " \"Don't sing.\",\n",
              " \"Don't sing.\",\n",
              " \"Don't stop.\",\n",
              " \"Don't talk!\",\n",
              " \"Don't talk.\",\n",
              " \"Don't wait.\",\n",
              " \"Don't wait.\",\n",
              " \"Don't wait.\",\n",
              " \"Don't yell.\",\n",
              " 'Eat slowly.',\n",
              " 'Eat slowly.',\n",
              " 'Fire burns.',\n",
              " 'Follow Tom.',\n",
              " 'Follow Tom.',\n",
              " 'Follow Tom.',\n",
              " 'Follow Tom.',\n",
              " 'Follow him.',\n",
              " 'Follow him.',\n",
              " 'Forget Tom.',\n",
              " 'Forget Tom.',\n",
              " 'Forget Tom.',\n",
              " 'Forget him.',\n",
              " 'Forgive us.',\n",
              " 'Forgive us.',\n",
              " 'Get a life.',\n",
              " 'Get inside.',\n",
              " 'Get to bed.',\n",
              " 'Give it up.',\n",
              " 'Go on home.',\n",
              " 'Go on home.',\n",
              " 'Go see Tom.',\n",
              " 'Go to work.',\n",
              " 'God exists.',\n",
              " 'Have faith.',\n",
              " 'Have faith.',\n",
              " 'Have faith.',\n",
              " 'Have faith.',\n",
              " 'He ate out.',\n",
              " 'He coughed.',\n",
              " 'He gave in.',\n",
              " 'He gave up.',\n",
              " 'He gave up.',\n",
              " 'He gave up.',\n",
              " 'He gave up.',\n",
              " 'He hung up.',\n",
              " 'He hung up.',\n",
              " ...]"
            ]
          },
          "execution_count": 60,
          "metadata": {},
          "output_type": "execute_result"
        }
      ],
      "source": [
        "inputtexts"
      ]
    },
    {
      "cell_type": "code",
      "execution_count": null,
      "metadata": {
        "id": "njhQrFW-qg3p"
      },
      "outputs": [],
      "source": [
        "encoderinputdata=np.zeros((len(inputtexts),maxencoderseqlength,len(inputcharacters)),dtype='float32')"
      ]
    },
    {
      "cell_type": "code",
      "execution_count": null,
      "metadata": {
        "id": "TfpxsVpsqg3p"
      },
      "outputs": [],
      "source": [
        "decoderinputdata=np.zeros((len(inputtexts),maxdecoderseqlength,len(targetcharacters)),dtype='float32')"
      ]
    },
    {
      "cell_type": "code",
      "execution_count": null,
      "metadata": {
        "id": "YJpKJpH9qg3p"
      },
      "outputs": [],
      "source": [
        "decodertargetdata=np.zeros((len(inputtexts),maxdecoderseqlength,len(targetcharacters)),dtype='float32')"
      ]
    },
    {
      "cell_type": "code",
      "execution_count": null,
      "metadata": {
        "id": "CNS-rNkoqg3p"
      },
      "outputs": [],
      "source": [
        "for i ,(inputtext,targettext) in enumerate(zip(inputtexts,targettexts)):\n",
        "    for t,char in enumerate(inputtext):\n",
        "        encoderinputdata[i,t,inputtokenindex[char]]=1.\n",
        "    encoderinputdata[i,t+1:,inputtokenindex[' ']]=1.\n",
        "    for t,char in enumerate(targettext):\n",
        "        decoderinputdata[i,t,targettokenindex[char]]=1.\n",
        "        if t>0:\n",
        "            decodertargetdata[i,t-1,targettokenindex[char]]=1.\n",
        "    decoderinputdata[i,t+1:,targettokenindex[' ']]=1.\n",
        "    decodertargetdata[i,t:,targettokenindex[' ']]=1."
      ]
    },
    {
      "cell_type": "code",
      "execution_count": null,
      "metadata": {
        "colab": {
          "base_uri": "https://localhost:8080/"
        },
        "id": "eSKuzGr8qg3q",
        "outputId": "7214fa92-c5d4-4d83-999d-48b5e0983ec6"
      },
      "outputs": [
        {
          "data": {
            "text/plain": [
              "(10000, 17, 71)"
            ]
          },
          "execution_count": 65,
          "metadata": {},
          "output_type": "execute_result"
        }
      ],
      "source": [
        "encoderinputdata.shape"
      ]
    },
    {
      "cell_type": "code",
      "execution_count": null,
      "metadata": {
        "colab": {
          "base_uri": "https://localhost:8080/"
        },
        "id": "g86UobEvqg3q",
        "outputId": "6e7690df-e59b-410b-9dba-b68d7c07574f"
      },
      "outputs": [
        {
          "data": {
            "text/plain": [
              "(10000, 42, 86)"
            ]
          },
          "execution_count": 66,
          "metadata": {},
          "output_type": "execute_result"
        }
      ],
      "source": [
        "decoderinputdata.shape"
      ]
    },
    {
      "cell_type": "code",
      "execution_count": null,
      "metadata": {
        "colab": {
          "base_uri": "https://localhost:8080/"
        },
        "id": "Yyt5Tcz2qg3q",
        "outputId": "1528ef80-5b40-4be5-a066-09376154290b"
      },
      "outputs": [
        {
          "data": {
            "text/plain": [
              "(10000, 42, 86)"
            ]
          },
          "execution_count": 67,
          "metadata": {},
          "output_type": "execute_result"
        }
      ],
      "source": [
        "decodertargetdata.shape"
      ]
    },
    {
      "cell_type": "code",
      "execution_count": null,
      "metadata": {
        "id": "9y6Blae1qg3q"
      },
      "outputs": [],
      "source": [
        "encoderinputs=Input(shape=(None,numencodertokens))"
      ]
    },
    {
      "cell_type": "code",
      "execution_count": null,
      "metadata": {
        "id": "VBZ3ORD_qg3r"
      },
      "outputs": [],
      "source": [
        "encoder=LSTM(latentdim,return_state=True)"
      ]
    },
    {
      "cell_type": "code",
      "execution_count": null,
      "metadata": {
        "id": "LJlNQVEuqg3r"
      },
      "outputs": [],
      "source": [
        "encoderoutputs,stateh,statec=encoder(encoderinputs)"
      ]
    },
    {
      "cell_type": "code",
      "execution_count": null,
      "metadata": {
        "id": "SwgvrLV9qg3r"
      },
      "outputs": [],
      "source": [
        "encoderstates=[stateh,statec]"
      ]
    },
    {
      "cell_type": "code",
      "execution_count": null,
      "metadata": {
        "id": "zzt6AQJeqg3r"
      },
      "outputs": [],
      "source": [
        "decoderinputs=Input(shape=(None,numdecodertokens))"
      ]
    },
    {
      "cell_type": "code",
      "execution_count": null,
      "metadata": {
        "id": "db6i9l-5qg3r"
      },
      "outputs": [],
      "source": [
        "decoderlstm=LSTM(latentdim,return_sequences=True,return_state=True)"
      ]
    },
    {
      "cell_type": "code",
      "execution_count": null,
      "metadata": {
        "id": "t7orSw3Zqg3s"
      },
      "outputs": [],
      "source": [
        "decoderoutputs,_,_=decoderlstm(decoderinputs,initial_state=encoderstates)"
      ]
    },
    {
      "cell_type": "code",
      "execution_count": null,
      "metadata": {
        "id": "qKyxqivAqg3s"
      },
      "outputs": [],
      "source": [
        "decoderdense=Dense(numdecodertokens,activation='softmax')"
      ]
    },
    {
      "cell_type": "code",
      "execution_count": null,
      "metadata": {
        "id": "fV7HzsdQqg3s"
      },
      "outputs": [],
      "source": [
        "decoderoutputs=decoderdense(decoderoutputs)"
      ]
    },
    {
      "cell_type": "code",
      "execution_count": null,
      "metadata": {
        "id": "g0jTT6NVqg3s"
      },
      "outputs": [],
      "source": [
        "m=Model([encoderinputs,decoderinputs],decoderoutputs)"
      ]
    },
    {
      "cell_type": "code",
      "execution_count": null,
      "metadata": {
        "id": "piiisE98qg3s"
      },
      "outputs": [],
      "source": [
        "m.compile(optimizer='rmsprop',loss='categorical_crossentropy',metrics=['accuracy'])"
      ]
    },
    {
      "cell_type": "code",
      "execution_count": null,
      "metadata": {
        "colab": {
          "background_save": true,
          "base_uri": "https://localhost:8080/"
        },
        "id": "q2LsUk-Vqg3s",
        "outputId": "fe58a6da-88e3-4f8b-9e45-2757a6fcb2fd"
      },
      "outputs": [
        {
          "name": "stdout",
          "output_type": "stream",
          "text": [
            "Epoch 1/100\n",
            "125/125 [==============================] - 38s 275ms/step - loss: 1.4139 - accuracy: 0.6573 - val_loss: 1.3500 - val_accuracy: 0.6432\n",
            "Epoch 2/100\n",
            "125/125 [==============================] - 34s 274ms/step - loss: 1.0466 - accuracy: 0.7134 - val_loss: 1.1021 - val_accuracy: 0.6855\n",
            "Epoch 3/100\n",
            "125/125 [==============================] - 34s 269ms/step - loss: 0.8664 - accuracy: 0.7476 - val_loss: 0.9557 - val_accuracy: 0.7143\n",
            "Epoch 4/100\n",
            "125/125 [==============================] - 34s 269ms/step - loss: 0.7926 - accuracy: 0.7639 - val_loss: 0.9025 - val_accuracy: 0.7274\n",
            "Epoch 5/100\n",
            "125/125 [==============================] - 34s 274ms/step - loss: 0.7367 - accuracy: 0.7784 - val_loss: 0.8546 - val_accuracy: 0.7404\n",
            "Epoch 6/100\n",
            "125/125 [==============================] - 34s 269ms/step - loss: 0.6951 - accuracy: 0.7904 - val_loss: 0.8173 - val_accuracy: 0.7527\n",
            "Epoch 7/100\n",
            "125/125 [==============================] - 34s 276ms/step - loss: 0.6595 - accuracy: 0.8009 - val_loss: 0.7887 - val_accuracy: 0.7604\n",
            "Epoch 8/100\n",
            "125/125 [==============================] - 34s 269ms/step - loss: 0.6272 - accuracy: 0.8104 - val_loss: 0.7669 - val_accuracy: 0.7705\n",
            "Epoch 9/100\n",
            "125/125 [==============================] - 33s 267ms/step - loss: 0.5986 - accuracy: 0.8197 - val_loss: 0.7409 - val_accuracy: 0.7773\n",
            "Epoch 10/100\n",
            "125/125 [==============================] - 34s 276ms/step - loss: 0.5719 - accuracy: 0.8276 - val_loss: 0.7211 - val_accuracy: 0.7833\n",
            "Epoch 11/100\n",
            "125/125 [==============================] - 34s 269ms/step - loss: 0.5486 - accuracy: 0.8343 - val_loss: 0.7037 - val_accuracy: 0.7880\n",
            "Epoch 12/100\n",
            "125/125 [==============================] - 33s 267ms/step - loss: 0.5276 - accuracy: 0.8408 - val_loss: 0.6885 - val_accuracy: 0.7929\n",
            "Epoch 13/100\n",
            "125/125 [==============================] - 34s 276ms/step - loss: 0.5072 - accuracy: 0.8471 - val_loss: 0.6764 - val_accuracy: 0.7972\n",
            "Epoch 14/100\n",
            "125/125 [==============================] - 33s 268ms/step - loss: 0.4895 - accuracy: 0.8523 - val_loss: 0.6669 - val_accuracy: 0.8011\n",
            "Epoch 15/100\n",
            "125/125 [==============================] - 34s 274ms/step - loss: 0.4717 - accuracy: 0.8580 - val_loss: 0.6569 - val_accuracy: 0.8040\n",
            "Epoch 16/100\n",
            "125/125 [==============================] - 33s 268ms/step - loss: 0.4559 - accuracy: 0.8623 - val_loss: 0.6507 - val_accuracy: 0.8071\n",
            "Epoch 17/100\n",
            "125/125 [==============================] - 34s 269ms/step - loss: 0.4399 - accuracy: 0.8675 - val_loss: 0.6501 - val_accuracy: 0.8072\n",
            "Epoch 18/100\n",
            "125/125 [==============================] - 35s 277ms/step - loss: 0.4254 - accuracy: 0.8718 - val_loss: 0.6460 - val_accuracy: 0.8094\n",
            "Epoch 19/100\n",
            "125/125 [==============================] - 35s 278ms/step - loss: 0.4118 - accuracy: 0.8760 - val_loss: 0.6388 - val_accuracy: 0.8123\n",
            "Epoch 20/100\n",
            "125/125 [==============================] - 34s 274ms/step - loss: 0.3980 - accuracy: 0.8801 - val_loss: 0.6373 - val_accuracy: 0.8126\n",
            "Epoch 21/100\n",
            "125/125 [==============================] - 35s 279ms/step - loss: 0.3847 - accuracy: 0.8843 - val_loss: 0.6396 - val_accuracy: 0.8135\n",
            "Epoch 22/100\n",
            "125/125 [==============================] - 34s 272ms/step - loss: 0.3717 - accuracy: 0.8879 - val_loss: 0.6358 - val_accuracy: 0.8153\n",
            "Epoch 23/100\n",
            "125/125 [==============================] - 35s 277ms/step - loss: 0.3593 - accuracy: 0.8917 - val_loss: 0.6376 - val_accuracy: 0.8151\n",
            "Epoch 24/100\n",
            "125/125 [==============================] - 34s 268ms/step - loss: 0.3480 - accuracy: 0.8949 - val_loss: 0.6361 - val_accuracy: 0.8174\n",
            "Epoch 25/100\n",
            "125/125 [==============================] - 34s 270ms/step - loss: 0.3367 - accuracy: 0.8987 - val_loss: 0.6400 - val_accuracy: 0.8160\n",
            "Epoch 26/100\n",
            "125/125 [==============================] - 35s 281ms/step - loss: 0.3258 - accuracy: 0.9023 - val_loss: 0.6407 - val_accuracy: 0.8182\n",
            "Epoch 27/100\n",
            "125/125 [==============================] - 34s 269ms/step - loss: 0.3149 - accuracy: 0.9053 - val_loss: 0.6485 - val_accuracy: 0.8173\n",
            "Epoch 28/100\n",
            "125/125 [==============================] - 34s 269ms/step - loss: 0.3048 - accuracy: 0.9083 - val_loss: 0.6501 - val_accuracy: 0.8181\n",
            "Epoch 29/100\n",
            "125/125 [==============================] - 34s 276ms/step - loss: 0.2947 - accuracy: 0.9114 - val_loss: 0.6610 - val_accuracy: 0.8164\n",
            "Epoch 30/100\n",
            "125/125 [==============================] - 34s 271ms/step - loss: 0.2854 - accuracy: 0.9140 - val_loss: 0.6624 - val_accuracy: 0.8184\n",
            "Epoch 31/100\n",
            "125/125 [==============================] - 35s 277ms/step - loss: 0.2760 - accuracy: 0.9170 - val_loss: 0.6592 - val_accuracy: 0.8193\n",
            "Epoch 32/100\n",
            "125/125 [==============================] - 34s 271ms/step - loss: 0.2667 - accuracy: 0.9202 - val_loss: 0.6648 - val_accuracy: 0.8202\n",
            "Epoch 33/100\n",
            "125/125 [==============================] - 34s 271ms/step - loss: 0.2584 - accuracy: 0.9226 - val_loss: 0.6712 - val_accuracy: 0.8185\n",
            "Epoch 34/100\n",
            "125/125 [==============================] - 35s 277ms/step - loss: 0.2500 - accuracy: 0.9249 - val_loss: 0.6839 - val_accuracy: 0.8173\n",
            "Epoch 35/100\n",
            "125/125 [==============================] - 34s 271ms/step - loss: 0.2422 - accuracy: 0.9272 - val_loss: 0.6879 - val_accuracy: 0.8190\n",
            "Epoch 36/100\n",
            "125/125 [==============================] - 35s 278ms/step - loss: 0.2341 - accuracy: 0.9296 - val_loss: 0.7003 - val_accuracy: 0.8176\n",
            "Epoch 37/100\n",
            "125/125 [==============================] - 34s 272ms/step - loss: 0.2267 - accuracy: 0.9320 - val_loss: 0.7024 - val_accuracy: 0.8180\n",
            "Epoch 38/100\n",
            "125/125 [==============================] - 34s 273ms/step - loss: 0.2195 - accuracy: 0.9342 - val_loss: 0.7083 - val_accuracy: 0.8173\n",
            "Epoch 39/100\n",
            "125/125 [==============================] - 35s 276ms/step - loss: 0.2121 - accuracy: 0.9368 - val_loss: 0.7142 - val_accuracy: 0.8179\n",
            "Epoch 40/100\n",
            "125/125 [==============================] - 34s 272ms/step - loss: 0.2055 - accuracy: 0.9385 - val_loss: 0.7237 - val_accuracy: 0.8176\n",
            "Epoch 41/100\n",
            "125/125 [==============================] - 35s 278ms/step - loss: 0.1987 - accuracy: 0.9406 - val_loss: 0.7398 - val_accuracy: 0.8171\n",
            "Epoch 42/100\n",
            "125/125 [==============================] - 34s 273ms/step - loss: 0.1922 - accuracy: 0.9426 - val_loss: 0.7409 - val_accuracy: 0.8157\n",
            "Epoch 43/100\n",
            "125/125 [==============================] - 34s 271ms/step - loss: 0.1868 - accuracy: 0.9437 - val_loss: 0.7516 - val_accuracy: 0.8165\n",
            "Epoch 44/100\n",
            "125/125 [==============================] - 34s 276ms/step - loss: 0.1804 - accuracy: 0.9461 - val_loss: 0.7638 - val_accuracy: 0.8147\n",
            "Epoch 45/100\n",
            "125/125 [==============================] - 34s 272ms/step - loss: 0.1748 - accuracy: 0.9478 - val_loss: 0.7679 - val_accuracy: 0.8157\n",
            "Epoch 46/100\n",
            "125/125 [==============================] - 34s 275ms/step - loss: 0.1689 - accuracy: 0.9497 - val_loss: 0.7798 - val_accuracy: 0.8149\n",
            "Epoch 47/100\n",
            "125/125 [==============================] - 34s 273ms/step - loss: 0.1635 - accuracy: 0.9512 - val_loss: 0.7916 - val_accuracy: 0.8139\n",
            "Epoch 48/100\n",
            "125/125 [==============================] - 34s 272ms/step - loss: 0.1593 - accuracy: 0.9524 - val_loss: 0.7937 - val_accuracy: 0.8152\n",
            "Epoch 49/100\n",
            "125/125 [==============================] - 35s 277ms/step - loss: 0.1540 - accuracy: 0.9541 - val_loss: 0.8069 - val_accuracy: 0.8150\n",
            "Epoch 50/100\n",
            "125/125 [==============================] - 34s 272ms/step - loss: 0.1495 - accuracy: 0.9551 - val_loss: 0.8173 - val_accuracy: 0.8137\n",
            "Epoch 51/100\n",
            "125/125 [==============================] - 34s 276ms/step - loss: 0.1448 - accuracy: 0.9568 - val_loss: 0.8209 - val_accuracy: 0.8145\n",
            "Epoch 52/100\n",
            "125/125 [==============================] - 34s 272ms/step - loss: 0.1405 - accuracy: 0.9580 - val_loss: 0.8278 - val_accuracy: 0.8134\n",
            "Epoch 53/100\n",
            "125/125 [==============================] - 34s 274ms/step - loss: 0.1360 - accuracy: 0.9595 - val_loss: 0.8420 - val_accuracy: 0.8126\n",
            "Epoch 54/100\n",
            "125/125 [==============================] - 35s 278ms/step - loss: 0.1328 - accuracy: 0.9604 - val_loss: 0.8560 - val_accuracy: 0.8129\n",
            "Epoch 55/100\n",
            "125/125 [==============================] - 34s 271ms/step - loss: 0.1281 - accuracy: 0.9618 - val_loss: 0.8609 - val_accuracy: 0.8123\n",
            "Epoch 56/100\n",
            "125/125 [==============================] - 34s 275ms/step - loss: 0.1248 - accuracy: 0.9628 - val_loss: 0.8789 - val_accuracy: 0.8119\n",
            "Epoch 57/100\n",
            "125/125 [==============================] - 34s 269ms/step - loss: 0.1214 - accuracy: 0.9638 - val_loss: 0.8869 - val_accuracy: 0.8114\n",
            "Epoch 58/100\n",
            "125/125 [==============================] - 33s 268ms/step - loss: 0.1181 - accuracy: 0.9648 - val_loss: 0.8866 - val_accuracy: 0.8135\n",
            "Epoch 59/100\n",
            "125/125 [==============================] - 34s 274ms/step - loss: 0.1147 - accuracy: 0.9660 - val_loss: 0.9038 - val_accuracy: 0.8101\n",
            "Epoch 60/100\n",
            "125/125 [==============================] - 34s 270ms/step - loss: 0.1115 - accuracy: 0.9668 - val_loss: 0.9034 - val_accuracy: 0.8124\n",
            "Epoch 61/100\n",
            "125/125 [==============================] - 35s 277ms/step - loss: 0.1084 - accuracy: 0.9674 - val_loss: 0.9203 - val_accuracy: 0.8108\n",
            "Epoch 62/100\n",
            "125/125 [==============================] - 34s 270ms/step - loss: 0.1060 - accuracy: 0.9685 - val_loss: 0.9141 - val_accuracy: 0.8122\n",
            "Epoch 63/100\n",
            "125/125 [==============================] - 34s 269ms/step - loss: 0.1031 - accuracy: 0.9691 - val_loss: 0.9284 - val_accuracy: 0.8111\n",
            "Epoch 64/100\n",
            "125/125 [==============================] - 34s 276ms/step - loss: 0.1003 - accuracy: 0.9702 - val_loss: 0.9426 - val_accuracy: 0.8120\n",
            "Epoch 65/100\n",
            "125/125 [==============================] - 34s 273ms/step - loss: 0.0976 - accuracy: 0.9709 - val_loss: 0.9520 - val_accuracy: 0.8109\n",
            "Epoch 66/100\n",
            "125/125 [==============================] - 35s 282ms/step - loss: 0.0955 - accuracy: 0.9714 - val_loss: 0.9478 - val_accuracy: 0.8114\n",
            "Epoch 67/100\n",
            "125/125 [==============================] - 34s 273ms/step - loss: 0.0929 - accuracy: 0.9722 - val_loss: 0.9600 - val_accuracy: 0.8114\n",
            "Epoch 68/100\n",
            "125/125 [==============================] - 34s 274ms/step - loss: 0.0902 - accuracy: 0.9728 - val_loss: 0.9720 - val_accuracy: 0.8104\n",
            "Epoch 69/100\n",
            "125/125 [==============================] - 35s 281ms/step - loss: 0.0882 - accuracy: 0.9735 - val_loss: 0.9769 - val_accuracy: 0.8110\n",
            "Epoch 70/100\n",
            "125/125 [==============================] - 35s 278ms/step - loss: 0.0862 - accuracy: 0.9740 - val_loss: 0.9895 - val_accuracy: 0.8111\n",
            "Epoch 71/100\n",
            "125/125 [==============================] - 36s 285ms/step - loss: 0.0843 - accuracy: 0.9748 - val_loss: 0.9852 - val_accuracy: 0.8104\n",
            "Epoch 72/100\n",
            "125/125 [==============================] - 35s 280ms/step - loss: 0.0823 - accuracy: 0.9749 - val_loss: 0.9953 - val_accuracy: 0.8113\n",
            "Epoch 73/100\n",
            "125/125 [==============================] - 35s 278ms/step - loss: 0.0802 - accuracy: 0.9757 - val_loss: 1.0042 - val_accuracy: 0.8098\n",
            "Epoch 74/100\n",
            "125/125 [==============================] - 36s 286ms/step - loss: 0.0791 - accuracy: 0.9761 - val_loss: 1.0167 - val_accuracy: 0.8100\n",
            "Epoch 75/100\n",
            "125/125 [==============================] - 35s 279ms/step - loss: 0.0772 - accuracy: 0.9767 - val_loss: 1.0232 - val_accuracy: 0.8095\n",
            "Epoch 76/100\n",
            "125/125 [==============================] - 35s 283ms/step - loss: 0.0756 - accuracy: 0.9770 - val_loss: 1.0290 - val_accuracy: 0.8105\n",
            "Epoch 77/100\n",
            "125/125 [==============================] - 35s 278ms/step - loss: 0.0734 - accuracy: 0.9776 - val_loss: 1.0444 - val_accuracy: 0.8094\n",
            "Epoch 78/100\n",
            "125/125 [==============================] - 35s 283ms/step - loss: 0.0720 - accuracy: 0.9783 - val_loss: 1.0507 - val_accuracy: 0.8084\n",
            "Epoch 79/100\n",
            "125/125 [==============================] - 35s 276ms/step - loss: 0.0705 - accuracy: 0.9786 - val_loss: 1.0485 - val_accuracy: 0.8110\n",
            "Epoch 80/100\n",
            "125/125 [==============================] - 35s 277ms/step - loss: 0.0694 - accuracy: 0.9789 - val_loss: 1.0578 - val_accuracy: 0.8099\n",
            "Epoch 81/100\n",
            "125/125 [==============================] - 35s 279ms/step - loss: 0.0683 - accuracy: 0.9790 - val_loss: 1.0592 - val_accuracy: 0.8096\n",
            "Epoch 82/100\n",
            "125/125 [==============================] - 34s 275ms/step - loss: 0.0663 - accuracy: 0.9797 - val_loss: 1.0779 - val_accuracy: 0.8085\n",
            "Epoch 83/100\n",
            "125/125 [==============================] - 35s 281ms/step - loss: 0.0649 - accuracy: 0.9803 - val_loss: 1.0797 - val_accuracy: 0.8090\n",
            "Epoch 84/100\n",
            "125/125 [==============================] - 35s 277ms/step - loss: 0.0642 - accuracy: 0.9804 - val_loss: 1.0830 - val_accuracy: 0.8097\n",
            "Epoch 85/100\n",
            "125/125 [==============================] - 35s 278ms/step - loss: 0.0625 - accuracy: 0.9811 - val_loss: 1.0834 - val_accuracy: 0.8102\n",
            "Epoch 86/100\n",
            "125/125 [==============================] - 35s 281ms/step - loss: 0.0619 - accuracy: 0.9810 - val_loss: 1.0977 - val_accuracy: 0.8096\n",
            "Epoch 87/100\n",
            "125/125 [==============================] - 35s 277ms/step - loss: 0.0607 - accuracy: 0.9813 - val_loss: 1.1076 - val_accuracy: 0.8082\n",
            "Epoch 88/100\n",
            "125/125 [==============================] - 35s 280ms/step - loss: 0.0598 - accuracy: 0.9815 - val_loss: 1.1081 - val_accuracy: 0.8087\n",
            "Epoch 89/100\n",
            "125/125 [==============================] - 34s 273ms/step - loss: 0.0586 - accuracy: 0.9821 - val_loss: 1.1206 - val_accuracy: 0.8083\n",
            "Epoch 90/100\n",
            "125/125 [==============================] - 34s 276ms/step - loss: 0.0578 - accuracy: 0.9823 - val_loss: 1.1207 - val_accuracy: 0.8085\n",
            "Epoch 91/100\n",
            "125/125 [==============================] - 35s 283ms/step - loss: 0.0566 - accuracy: 0.9826 - val_loss: 1.1273 - val_accuracy: 0.8084\n",
            "Epoch 92/100\n",
            "125/125 [==============================] - 34s 276ms/step - loss: 0.0559 - accuracy: 0.9826 - val_loss: 1.1253 - val_accuracy: 0.8085\n",
            "Epoch 93/100\n",
            "125/125 [==============================] - 35s 283ms/step - loss: 0.0551 - accuracy: 0.9830 - val_loss: 1.1272 - val_accuracy: 0.8089\n",
            "Epoch 94/100\n",
            "125/125 [==============================] - 35s 278ms/step - loss: 0.0546 - accuracy: 0.9831 - val_loss: 1.1388 - val_accuracy: 0.8075\n",
            "Epoch 95/100\n",
            "125/125 [==============================] - 35s 279ms/step - loss: 0.0537 - accuracy: 0.9833 - val_loss: 1.1442 - val_accuracy: 0.8085\n",
            "Epoch 96/100\n",
            "125/125 [==============================] - 35s 281ms/step - loss: 0.0528 - accuracy: 0.9837 - val_loss: 1.1505 - val_accuracy: 0.8081\n",
            "Epoch 97/100\n",
            "125/125 [==============================] - 35s 278ms/step - loss: 0.0522 - accuracy: 0.9840 - val_loss: 1.1486 - val_accuracy: 0.8099\n",
            "Epoch 98/100\n",
            "125/125 [==============================] - 35s 283ms/step - loss: 0.0510 - accuracy: 0.9842 - val_loss: 1.1542 - val_accuracy: 0.8091\n",
            "Epoch 99/100\n",
            "125/125 [==============================] - 35s 277ms/step - loss: 0.0509 - accuracy: 0.9843 - val_loss: 1.1594 - val_accuracy: 0.8086\n",
            "Epoch 100/100\n",
            "125/125 [==============================] - 35s 282ms/step - loss: 0.0504 - accuracy: 0.9844 - val_loss: 1.1671 - val_accuracy: 0.8084\n"
          ]
        },
        {
          "data": {
            "text/plain": [
              "<keras.callbacks.History at 0x7f4949363e90>"
            ]
          },
          "execution_count": null,
          "metadata": {},
          "output_type": "execute_result"
        }
      ],
      "source": [
        "m.fit([encoderinputdata,decoderinputdata],decodertargetdata,batch_size=batchsize,epochs=epochs,validation_split=0.2)"
      ]
    },
    {
      "cell_type": "code",
      "execution_count": null,
      "metadata": {
        "colab": {
          "background_save": true
        },
        "id": "7H5sRc23qg3s",
        "outputId": "82bc1cb3-2b27-442b-b998-5f186dac7f9e"
      },
      "outputs": [
        {
          "name": "stdout",
          "output_type": "stream",
          "text": [
            "Model: \"model\"\n",
            "__________________________________________________________________________________________________\n",
            " Layer (type)                   Output Shape         Param #     Connected to                     \n",
            "==================================================================================================\n",
            " input_1 (InputLayer)           [(None, None, 71)]   0           []                               \n",
            "                                                                                                  \n",
            " input_2 (InputLayer)           [(None, None, 86)]   0           []                               \n",
            "                                                                                                  \n",
            " lstm (LSTM)                    [(None, 256),        335872      ['input_1[0][0]']                \n",
            "                                 (None, 256),                                                     \n",
            "                                 (None, 256)]                                                     \n",
            "                                                                                                  \n",
            " lstm_1 (LSTM)                  [(None, None, 256),  351232      ['input_2[0][0]',                \n",
            "                                 (None, 256),                     'lstm[0][1]',                   \n",
            "                                 (None, 256)]                     'lstm[0][2]']                   \n",
            "                                                                                                  \n",
            " dense (Dense)                  (None, None, 86)     22102       ['lstm_1[0][0]']                 \n",
            "                                                                                                  \n",
            "==================================================================================================\n",
            "Total params: 709,206\n",
            "Trainable params: 709,206\n",
            "Non-trainable params: 0\n",
            "__________________________________________________________________________________________________\n"
          ]
        }
      ],
      "source": [
        "m.summary()"
      ]
    },
    {
      "cell_type": "code",
      "execution_count": null,
      "metadata": {
        "colab": {
          "background_save": true
        },
        "id": "Zg_0Ix_mqg3t",
        "outputId": "5d2539dc-f327-4ca7-da8d-b26d2870615f"
      },
      "outputs": [
        {
          "data": {
            "image/png": "[encoded data removed]",
            "text/plain": [
              "<IPython.core.display.Image object>"
            ]
          },
          "execution_count": null,
          "metadata": {},
          "output_type": "execute_result"
        }
      ],
      "source": [
        "import tensorflow as tf\n",
        "from tensorflow import keras\n",
        "from tensorflow.keras import layers\n",
        "keras.utils.plot_model(m, \"my_first_model_with_shape_info.png\", show_shapes=True)"
      ]
    },
    {
      "cell_type": "code",
      "execution_count": null,
      "metadata": {
        "colab": {
          "background_save": true
        },
        "id": "jSkK8PA-qg3t",
        "scrolled": true,
        "outputId": "7182edc0-fcf1-48f6-db2a-fda41b570816"
      },
      "outputs": [
        {
          "name": "stderr",
          "output_type": "stream",
          "text": [
            "WARNING:absl:Found untraced functions such as lstm_cell_layer_call_fn, lstm_cell_layer_call_and_return_conditional_losses, lstm_cell_1_layer_call_fn, lstm_cell_1_layer_call_and_return_conditional_losses while saving (showing 4 of 4). These functions will not be directly callable after loading.\n"
          ]
        },
        {
          "name": "stdout",
          "output_type": "stream",
          "text": [
            "INFO:tensorflow:Assets written to: traslationmodel/assets\n"
          ]
        },
        {
          "name": "stderr",
          "output_type": "stream",
          "text": [
            "INFO:tensorflow:Assets written to: traslationmodel/assets\n",
            "WARNING:absl:<keras.layers.recurrent.LSTMCell object at 0x7f4949e414d0> has the same name 'LSTMCell' as a built-in Keras object. Consider renaming <class 'keras.layers.recurrent.LSTMCell'> to avoid naming conflicts when loading with `tf.keras.models.load_model`. If renaming is not possible, pass the object in the `custom_objects` parameter of the load function.\n",
            "WARNING:absl:<keras.layers.recurrent.LSTMCell object at 0x7f49494402d0> has the same name 'LSTMCell' as a built-in Keras object. Consider renaming <class 'keras.layers.recurrent.LSTMCell'> to avoid naming conflicts when loading with `tf.keras.models.load_model`. If renaming is not possible, pass the object in the `custom_objects` parameter of the load function.\n"
          ]
        }
      ],
      "source": [
        "m.save('traslationmodel')"
      ]
    },
    {
      "cell_type": "code",
      "execution_count": null,
      "metadata": {
        "colab": {
          "background_save": true
        },
        "id": "sQ9M8OL1qg3t"
      },
      "outputs": [],
      "source": [
        "encodemodel=Model(encoderinputs,encoderstates)"
      ]
    },
    {
      "cell_type": "code",
      "execution_count": null,
      "metadata": {
        "colab": {
          "background_save": true
        },
        "id": "5A6OylREqg3t"
      },
      "outputs": [],
      "source": [
        "decoderstateinputh=Input(shape=(latentdim,))"
      ]
    },
    {
      "cell_type": "code",
      "execution_count": null,
      "metadata": {
        "colab": {
          "background_save": true
        },
        "id": "ErLCPDWsqg3t"
      },
      "outputs": [],
      "source": [
        "decoderstateinputc=Input(shape=(latentdim,))"
      ]
    },
    {
      "cell_type": "code",
      "execution_count": null,
      "metadata": {
        "colab": {
          "background_save": true
        },
        "id": "WR7DJR6vqg3u"
      },
      "outputs": [],
      "source": [
        "decoderstateinputs=[decoderstateinputc,decoderstateinputh]"
      ]
    },
    {
      "cell_type": "code",
      "execution_count": null,
      "metadata": {
        "colab": {
          "background_save": true
        },
        "id": "auqiyGxFqg3u"
      },
      "outputs": [],
      "source": [
        "decoderoutputs,stateh,statec=decoderlstm(decoderinputs,initial_state=decoderstateinputs)"
      ]
    },
    {
      "cell_type": "code",
      "execution_count": null,
      "metadata": {
        "colab": {
          "background_save": true
        },
        "id": "kd-kiWyvqg3u"
      },
      "outputs": [],
      "source": [
        "decoderstates=[stateh,statec]"
      ]
    },
    {
      "cell_type": "code",
      "execution_count": null,
      "metadata": {
        "colab": {
          "background_save": true
        },
        "id": "2RQHYdETqg3u"
      },
      "outputs": [],
      "source": [
        "decoderoutputs=decoderdense(decoderoutputs)"
      ]
    },
    {
      "cell_type": "code",
      "execution_count": null,
      "metadata": {
        "colab": {
          "background_save": true
        },
        "id": "O8elXdCGqg3u"
      },
      "outputs": [],
      "source": [
        "decodermodel=Model(\n",
        "    [decoderinputs]+decoderstateinputs,\n",
        "    [decoderoutputs]+decoderstates)"
      ]
    },
    {
      "cell_type": "code",
      "execution_count": null,
      "metadata": {
        "colab": {
          "background_save": true
        },
        "id": "PaJUAHobqg3u"
      },
      "outputs": [],
      "source": [
        "reverseinputcharindex=dict((i,char) for char,i in inputtokenindex.items())"
      ]
    },
    {
      "cell_type": "code",
      "execution_count": 1,
      "metadata": {
        "colab": {
          "base_uri": "https://localhost:8080/",
          "height": 207
        },
        "id": "oV3ThhWnqg3u",
        "outputId": "ad25c163-e85c-4844-83d1-d4c4aca6cba4"
      },
      "outputs": [
        {
          "output_type": "error",
          "ename": "NameError",
          "evalue": "ignored",
          "traceback": [
            "\u001b[0;31m---------------------------------------------------------------------------\u001b[0m",
            "\u001b[0;31mNameError\u001b[0m                                 Traceback (most recent call last)",
            "\u001b[0;32m<ipython-input-1-4dba7eb265d6>\u001b[0m in \u001b[0;36m<module>\u001b[0;34m\u001b[0m\n\u001b[0;32m----> 1\u001b[0;31m \u001b[0mreversetargetcharindex\u001b[0m\u001b[0;34m=\u001b[0m\u001b[0mdict\u001b[0m\u001b[0;34m(\u001b[0m\u001b[0;34m(\u001b[0m\u001b[0mi\u001b[0m\u001b[0;34m,\u001b[0m\u001b[0mchar\u001b[0m\u001b[0;34m)\u001b[0m \u001b[0;32mfor\u001b[0m \u001b[0mchar\u001b[0m\u001b[0;34m,\u001b[0m\u001b[0mi\u001b[0m \u001b[0;32min\u001b[0m \u001b[0mtargettokenindex\u001b[0m\u001b[0;34m.\u001b[0m\u001b[0mitems\u001b[0m\u001b[0;34m(\u001b[0m\u001b[0;34m)\u001b[0m\u001b[0;34m)\u001b[0m\u001b[0;34m\u001b[0m\u001b[0;34m\u001b[0m\u001b[0m\n\u001b[0m",
            "\u001b[0;31mNameError\u001b[0m: name 'targettokenindex' is not defined"
          ]
        }
      ],
      "source": [
        "reversetargetcharindex=dict((i,char) for char,i in targettokenindex.items())"
      ]
    },
    {
      "cell_type": "code",
      "execution_count": null,
      "metadata": {
        "colab": {
          "background_save": true
        },
        "id": "CkrHwLhGqg3u"
      },
      "outputs": [],
      "source": [
        "def decode_sequence(inputseq):\n",
        "    statesvalue=encodemodel.predict(inputseq)\n",
        "    targetseq=np.zeros((1,1,numdecodertokens))\n",
        "    targetseq[0,0,targettokenindex['\\t']]=1\n",
        "    stopcondition=False\n",
        "    decodedsentence=''\n",
        "    while not stopcondition:\n",
        "        outputtokens,h,c=decodermodel.predict([targetseq]+statesvalue)\n",
        "        sampledtokenindex=np.argmax(outputtokens[0,-1,:])\n",
        "        sampleschar=reversetargetcharindex[sampledtokenindex]\n",
        "        decodedsentence+=sampleschar\n",
        "        if(sampleschar=='\\n'or len(decodedsentence)>maxdecoderseqlength):\n",
        "            stopcondition=True\n",
        "        targetseq=np.zeros((1,1,numdecodertokens))\n",
        "        targetseq[0,0,sampledtokenindex]=1\n",
        "        statesvalue=[h,c]\n",
        "    return decodedsentence"
      ]
    },
    {
      "cell_type": "code",
      "execution_count": null,
      "metadata": {
        "id": "3fe2MKtPqg3v"
      },
      "outputs": [],
      "source": [
        "for seqindex in range(100,200):\n",
        "    inputseq=encoderinputdata[seqindex:seqindex+1]\n",
        "    decodedsentence=decode_sequence(inputseq)\n",
        "    print('-')\n",
        "    print('INPUT:',inputtexts[seqindex])\n",
        "    print('DECODED:',decodedsentence)"
      ]
    },
    {
      "cell_type": "code",
      "execution_count": null,
      "metadata": {
        "id": "Hu8Veo85qg3v"
      },
      "outputs": [],
      "source": []
    }
  ],
  "metadata": {
    "colab": {
      "provenance": [],
      "toc_visible": true,
      "include_colab_link": true
    },
    "kernelspec": {
      "display_name": "Python 3 (ipykernel)",
      "language": "python",
      "name": "python3"
    },
    "language_info": {
      "codemirror_mode": {
        "name": "ipython",
        "version": 3
      },
      "file_extension": ".py",
      "mimetype": "text/x-python",
      "name": "python",
      "nbconvert_exporter": "python",
      "pygments_lexer": "ipython3",
      "version": "3.8.10"
    }
  },
  "nbformat": 4,
  "nbformat_minor": 0
}